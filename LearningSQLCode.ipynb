{
 "cells": [
  {
   "attachments": {},
   "cell_type": "markdown",
   "metadata": {},
   "source": [
    "SELECT"
   ]
  },
  {
   "cell_type": "code",
   "execution_count": null,
   "metadata": {},
   "outputs": [],
   "source": [
    "# Select columns: first_name, last_name, email\n",
    "# From: customer\n",
    "SELECT first_name, last_name, email\n",
    "FROM customer;"
   ]
  },
  {
   "attachments": {},
   "cell_type": "markdown",
   "metadata": {},
   "source": [
    "SELECT DISTINCT"
   ]
  },
  {
   "cell_type": "code",
   "execution_count": null,
   "metadata": {},
   "outputs": [],
   "source": [
    "# Find amount of MPAA movie ratings available\n",
    "# From: films\n",
    "SELECT DISTINCT ratings\n",
    "FROM film;"
   ]
  },
  {
   "attachments": {},
   "cell_type": "markdown",
   "metadata": {},
   "source": [
    "WHERE"
   ]
  },
  {
   "cell_type": "code",
   "execution_count": null,
   "metadata": {},
   "outputs": [],
   "source": [
    "# Find email for specific customer (Nancy Thomas)\n",
    "# From: customer\n",
    "SELECT email \n",
    "FROM customer\n",
    "WHERE first_name = 'Nancy' \n",
    "AND last_name = 'Thomas';"
   ]
  },
  {
   "cell_type": "code",
   "execution_count": null,
   "metadata": {},
   "outputs": [],
   "source": [
    "# Find movie description of 'Outlaw Hanky' for customer\n",
    "# From: film\n",
    "SELECT description \n",
    "FROM film\n",
    "WHERE title = \"Outlaw Hanky\";"
   ]
  },
  {
   "cell_type": "code",
   "execution_count": null,
   "metadata": {},
   "outputs": [],
   "source": [
    "# Find phone number of customer that corresponds to specific address\n",
    "# From: address\n",
    "SELECT phone\n",
    "FROM address\n",
    "WHERE address = '256 Ipoh Drive';"
   ]
  },
  {
   "cell_type": "code",
   "execution_count": null,
   "metadata": {},
   "outputs": [],
   "source": [
    "# How many films begin with the letter J?\n",
    "# From: film\n",
    "SELECT COUNT(title) FROM film\n",
    "WHERE title LIKE 'J%';"
   ]
  },
  {
   "attachments": {},
   "cell_type": "markdown",
   "metadata": {},
   "source": [
    "ORDER BY"
   ]
  },
  {
   "cell_type": "code",
   "execution_count": null,
   "metadata": {},
   "outputs": [],
   "source": [
    "# Find customer ids of first 10 paying customer to give reward\n",
    "# From: payment\n",
    "SELECT customer_id\n",
    "FROM payment\n",
    "ORDER BY payment_date ASC \n",
    "LIMIT 10;\n"
   ]
  },
  {
   "cell_type": "code",
   "execution_count": null,
   "metadata": {},
   "outputs": [],
   "source": [
    "# Find titles of the 5 shortest movies \n",
    "# From: film\n",
    "SELECT title, length\n",
    "FROM film\n",
    "ORDER BY length ASC \n",
    "LIMIT 5;"
   ]
  },
  {
   "cell_type": "code",
   "execution_count": null,
   "metadata": {},
   "outputs": [],
   "source": [
    "# How many movies in stock are 50 minutes or less?\n",
    "# From: film\n",
    "SELECT COUNT (title)\n",
    "FROM film\n",
    "WHERE length <= 50.00;"
   ]
  },
  {
   "cell_type": "code",
   "execution_count": null,
   "metadata": {},
   "outputs": [],
   "source": [
    "# What customer has the highest customer ID number whose name starts with an 'E' and has an address ID lower than 500?\n",
    "# From: customer\n",
    "SELECT first_name, last_name FROM customer\n",
    "WHERE first_name LIKE 'E%'\n",
    "AND address_id < 500\n",
    "ORDER BY customer_id DESC\n",
    "LIMIT 1;"
   ]
  },
  {
   "attachments": {},
   "cell_type": "markdown",
   "metadata": {},
   "source": [
    "COUNT"
   ]
  },
  {
   "cell_type": "code",
   "execution_count": null,
   "metadata": {},
   "outputs": [],
   "source": [
    "# How many payment transactions were greater than $5.00?\n",
    "# From: payment\n",
    "SELECT COUNT (*) \n",
    "FROM payment\n",
    "WHERE amount >= 5.00;\n"
   ]
  },
  {
   "cell_type": "code",
   "execution_count": null,
   "metadata": {},
   "outputs": [],
   "source": [
    "# How many actors have a first name that starts with the letter P?\n",
    "# From: actor\n",
    "SELECT COUNT(*)\n",
    "FROM actor\n",
    "WHERE first_name LIKE 'P%';"
   ]
  },
  {
   "cell_type": "code",
   "execution_count": null,
   "metadata": {},
   "outputs": [],
   "source": [
    "# How many unique districts are our customers from?\n",
    "# From: address\n",
    "SELECT COUNT(DISTINCT (district))\n",
    "FROM address;"
   ]
  },
  {
   "cell_type": "code",
   "execution_count": null,
   "metadata": {},
   "outputs": [],
   "source": [
    "# What is the list of distinct district names?\n",
    "# From: address\n",
    "SELECT DISTINCT (district)\n",
    "FROM address;"
   ]
  },
  {
   "cell_type": "code",
   "execution_count": null,
   "metadata": {},
   "outputs": [],
   "source": [
    "# How many films have a rating of R and a replacement cost $5 - $15?\n",
    "# From: film\n",
    "SELECT COUNT (titles)\n",
    "FROM film\n",
    "WHERE rating = 'R'\n",
    "AND replacement_cost BETWEEN 5.00 AND 15.00;"
   ]
  },
  {
   "cell_type": "code",
   "execution_count": null,
   "metadata": {},
   "outputs": [],
   "source": [
    "# How many films are the word Truman somewhere in the title?\n",
    "# From: film\n",
    "SELECT COUNT (*)\n",
    "FROM film\n",
    "WHERE title LIKE '%Truman%';"
   ]
  },
  {
   "attachments": {},
   "cell_type": "markdown",
   "metadata": {},
   "source": [
    "AGGREGATIONS"
   ]
  },
  {
   "cell_type": "code",
   "execution_count": null,
   "metadata": {},
   "outputs": [],
   "source": [
    "# Which staff member handled the most payments?\n",
    "# From: payment\n",
    "SELECT staff_id, COUNT *\n",
    "FROM payment\n",
    "GROUP BY staff_id ASC; "
   ]
  },
  {
   "cell_type": "code",
   "execution_count": null,
   "metadata": {},
   "outputs": [],
   "source": [
    "# What is the average replacement cost per MPAA rating?\n",
    "# From: film\n",
    "SELECT rating , ROUND(AVG(replacement_cost),2)\n",
    "FROM film\n",
    "GROUP rating;"
   ]
  },
  {
   "cell_type": "code",
   "execution_count": null,
   "metadata": {},
   "outputs": [],
   "source": [
    "# What are the customer ids of the top 5 customers by total spend?\n",
    "# From: payment\n",
    "SELECT customer_id , SUM(amount)\n",
    "FROM payment\n",
    "GROUP BY customer_id\n",
    "ORDER BY SUM(amount) DESC\n",
    "LIMIT 5;"
   ]
  },
  {
   "cell_type": "code",
   "execution_count": null,
   "metadata": {},
   "outputs": [],
   "source": [
    "# What customer_ids are eligible for platinum status (40 or more transactions)?\n",
    "# From: payment\n",
    "SELECT customer_id , HAVING *\n",
    "FROM payment\n",
    "GROUP BY customer_id\n",
    "HAVING COUNT (*) >= 40.0;\n"
   ]
  },
  {
   "cell_type": "code",
   "execution_count": null,
   "metadata": {},
   "outputs": [],
   "source": [
    "# What customers have spent more than $100 in payments with staff member 2?\n",
    "# From: payment\n",
    "SELECT customer_id SUM(amount)\n",
    "FROM payment\n",
    "WHERE staff_id = '2'\n",
    "GROUP BY customer_id\n",
    "HAVING SUM(amount) > 100.00;"
   ]
  },
  {
   "cell_type": "code",
   "execution_count": null,
   "metadata": {},
   "outputs": [],
   "source": [
    "# Return the customer IDs of customers who have spent at least $110 with the staff member who has an ID of 2.\n",
    "# From: payment\n",
    "SELECT (customer_id), SUM(amount)\n",
    "FROM payment\n",
    "GROUP BY staff_id, customer_id\n",
    "HAVING SUM(amount)>= 110.00 AND staff_id=2;\n"
   ]
  }
 ],
 "metadata": {
  "kernelspec": {
   "display_name": "Python 3",
   "language": "python",
   "name": "python3"
  },
  "language_info": {
   "codemirror_mode": {
    "name": "ipython",
    "version": 3
   },
   "file_extension": ".py",
   "mimetype": "text/x-python",
   "name": "python",
   "nbconvert_exporter": "python",
   "pygments_lexer": "ipython3",
   "version": "3.8.9"
  },
  "orig_nbformat": 4
 },
 "nbformat": 4,
 "nbformat_minor": 2
}
